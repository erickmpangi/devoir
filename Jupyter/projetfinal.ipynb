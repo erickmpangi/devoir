{
 "cells": [
  {
   "cell_type": "code",
   "execution_count": 3,
   "id": "dd097a2a",
   "metadata": {},
   "outputs": [
    {
     "ename": "ModuleNotFoundError",
     "evalue": "No module named 'mne'",
     "output_type": "error",
     "traceback": [
      "\u001b[31m---------------------------------------------------------------------------\u001b[39m",
      "\u001b[31mModuleNotFoundError\u001b[39m                       Traceback (most recent call last)",
      "\u001b[36mCell\u001b[39m\u001b[36m \u001b[39m\u001b[32mIn[3]\u001b[39m\u001b[32m, line 1\u001b[39m\n\u001b[32m----> \u001b[39m\u001b[32m1\u001b[39m \u001b[38;5;28;01mimport\u001b[39;00m\u001b[38;5;250m \u001b[39m\u001b[34;01mmne\u001b[39;00m\n\u001b[32m      2\u001b[39m \u001b[38;5;28mprint\u001b[39m(\u001b[33mf\u001b[39m\u001b[33m\"\u001b[39m\u001b[33mMNE-Python version: \u001b[39m\u001b[38;5;132;01m{\u001b[39;00mmne.__version__\u001b[38;5;132;01m}\u001b[39;00m\u001b[33m\"\u001b[39m)\n",
      "\u001b[31mModuleNotFoundError\u001b[39m: No module named 'mne'"
     ]
    }
   ],
   "source": [
    "import mne\n",
    "print(f\"MNE-Python version: {mne.__version__}\")"
   ]
  },
  {
   "cell_type": "code",
   "execution_count": 4,
   "id": "207bab65",
   "metadata": {},
   "outputs": [],
   "source": [
    "import numpy as np\n",
    "import matplotlib.pyplot as plt"
   ]
  },
  {
   "cell_type": "code",
   "execution_count": null,
   "id": "2a00f106",
   "metadata": {},
   "outputs": [],
   "source": [
    "import mne\n",
    "from mne.filter import filter_data, notch_filter\n",
    "from scipy.signal import welch"
   ]
  },
  {
   "cell_type": "code",
   "execution_count": null,
   "id": "d8f9eb84",
   "metadata": {},
   "outputs": [],
   "source": [
    "# Configuración con una frecuencia de muestreo más alta\n",
    "sample_rate = 500  # Aumentado a 500 Hz para permitir el filtrado gamma\n",
    "np.random.seed(42)\n",
    "\n",
    "def simulate_eeg(duration=10, n_channels=8):\n",
    "    n_samples = int(duration * sample_rate)\n",
    "    time = np.linspace(0, duration, n_samples)\n",
    "\n",
    "    # Componentes cerebrales con más variabilidad\n",
    "    signals = [\n",
    "        0.5 * np.sin(2 * np.pi * 2 * time + np.random.rand()),    # Delta\n",
    "        0.3 * np.sin(2 * np.pi * 6 * time + np.random.rand()),    # Theta\n",
    "        0.2 * np.sin(2 * np.pi * 10 * time + np.random.rand()),   # Alpha\n",
    "        0.1 * np.sin(2 * np.pi * 25 * time + np.random.rand()),   # Beta\n",
    "        0.05 * np.sin(2 * np.pi * 40 * time + np.random.rand())   # Gamma\n",
    "    ]\n",
    "\n",
    "    clean_eeg = sum(signals)\n",
    "    noise = 0.1 * np.random.randn(n_samples, n_channels)\n",
    "    eeg_data = clean_eeg[:, np.newaxis] + noise\n",
    "\n",
    "    info = mne.create_info(n_channels, sample_rate, ch_types='eeg')\n",
    "    raw = mne.io.RawArray(eeg_data.T, info)\n",
    "    return raw, time\n",
    "\n",
    "def filter_eeg(raw):\n",
    "    # Filtro notch solamente a 50 Hz (armónicos debajo de Nyquist)\n",
    "    raw.notch_filter(np.array([50]))  # Sólo 50 Hz\n",
    "\n",
    "    bands = {\n",
    "        'Delta': (0.5, 4),\n",
    "        'Theta': (4, 8),\n",
    "        'Alpha': (8, 13),\n",
    "        'Beta': (13, 30),\n",
    "        'Gamma': (30, 45)  # Limitado a 45 Hz para mantenerse debajo de Nyquist\n",
    "    }\n",
    "\n",
    "    filtered = {}\n",
    "    for band, (l_freq, h_freq) in bands.items():\n",
    "        filtered[band] = raw.copy().filter(\n",
    "            l_freq, h_freq,\n",
    "            method='fir',\n",
    "            fir_window='hamming',\n",
    "            phase='zero-double',\n",
    "            fir_design='firwin2'\n",
    "        )\n",
    "\n",
    "    return filtered\n",
    "\n",
    "def plot_results(raw, filtered, time):\n",
    "    plt.figure(figsize=(15, 12))\n",
    "\n",
    "    # Señal original\n",
    "    plt.subplot(3, 1, 1)\n",
    "    plt.plot(time[:500], raw.get_data()[0, :500], 'k')  # Solo el primer segundo\n",
    "    plt.title('Señal EEG original (Canal 1 - primer segundo)')\n",
    "    plt.xlabel('Tiempo (s)')\n",
    "    plt.ylabel('Amplitud (µV)')\n",
    "\n",
    "    # Densidad espectral de potencia\n",
    "    plt.subplot(3, 1, 2)\n",
    "    f, Pxx = welch(raw.get_data()[0], fs=sample_rate, nperseg=1024)\n",
    "    plt.semilogy(f, Pxx, 'k')\n",
    "    plt.axvline(x=50, color='r', linestyle='--', label='50 Hz')\n",
    "    plt.title('Densidad espectral de potencia')\n",
    "    plt.xlabel('Frecuencia (Hz)')\n",
    "    plt.ylabel('Potencia (dB/Hz)')\n",
    "    plt.xlim(0, sample_rate/2)\n",
    "    plt.legend()\n",
    "\n",
    "    # Señales filtradas (primer segundo)\n",
    "    plt.subplot(3, 1, 3)\n",
    "    colors = {'Delta':'b', 'Theta':'g', 'Alpha':'r', 'Beta':'c', 'Gamma':'m'}\n",
    "    for band, color in colors.items():\n",
    "        data = filtered[band].get_data()[0, :500]\n",
    "        plt.plot(time[:500], data, color, label=band, alpha=0.7)\n",
    "    plt.title('Componentes espectrales filtradas (primer segundo)')\n",
    "    plt.xlabel('Tiempo (s)')\n",
    "    plt.ylabel('Amplitud (µV)')\n",
    "    plt.legend()\n",
    "\n",
    "    plt.tight_layout()\n",
    "    plt.show()\n",
    "\n",
    "# Ejecución\n",
    "raw, time = simulate_eeg(duration=5)  # Duración reducida para la demostración\n",
    "filtered = filter_eeg(raw)\n",
    "plot_results(raw, filtered, time)\n"
   ]
  }
 ],
 "metadata": {
  "kernelspec": {
   "display_name": ".venv",
   "language": "python",
   "name": "python3"
  },
  "language_info": {
   "codemirror_mode": {
    "name": "ipython",
    "version": 3
   },
   "file_extension": ".py",
   "mimetype": "text/x-python",
   "name": "python",
   "nbconvert_exporter": "python",
   "pygments_lexer": "ipython3",
   "version": "3.12.3"
  }
 },
 "nbformat": 4,
 "nbformat_minor": 5
}
