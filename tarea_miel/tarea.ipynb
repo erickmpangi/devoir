# tarea_m01_w02_VotreNomDeFamille.py
import numpy as np
import matplotlib.pyplot as plt

# ---------- Fonctions utilitaires ----------
def sigmoid(z):
    return 1 / (1 + np.exp(-z))

def initialize_with_zeros(dim):
    """
    dim : dimension du vecteur w (ici 12288)
    retourne w (dim,1) et b (float)
    """
    w = np.zeros((dim, 1))
    b = 0.0
    return w, b

def propagate(w, b, X, Y):
    """
    X: (n, m)
    Y: (1, m)
    retourne grads (dw, db) et cost (scalaire)
    """
    m = X.shape[1]
    # forward
    Z = np.dot(w.T, X) + b            # (1, m)
    A = sigmoid(Z)                    # (1, m)
    # coût (entropie croisée)
    eps = 1e-15                       # éviter log(0)
    cost = - (1.0 / m) * np.sum(Y * np.log(A + eps) + (1 - Y) * np.log(1 - A + eps))
    # backprop (gradients)
    dZ = A - Y                        # (1, m)
    dw = (1.0 / m) * np.dot(X, dZ.T)  # (n, 1)
    db = (1.0 / m) * np.sum(dZ)       # scalaire
    grads = {"dw": dw, "db": db}
    return grads, cost

def optimize(w, b, X, Y, num_iterations=2000, learning_rate=0.009, print_cost=False):
    costs = []
    for i in range(num_iterations):
        grads, cost = propagate(w, b, X, Y)
        dw = grads['dw']
        db = grads['db']
        # update
        w = w - learning_rate * dw
        b = b - learning_rate * db
        # stocker/afficher
        if i % 100 == 0:
            costs.append(cost)
            if print_cost:
                print(f"Iteration {i} -- coût = {cost:.6f}")
    params = {"w": w, "b": b}
    grads = {"dw": dw, "db": db}
    return params, grads, costs

def predict(w, b, X):
    """
    Retourne Y_prediction (1, m) valeurs 0/1
    """
    Z = np.dot(w.T, X) + b
    A = sigmoid(Z)
    Y_prediction = (A > 0.5).astype(int)
    return Y_prediction

# ---------- Exemple d'utilisation ----------
if __name__ == "__main__":
    # Charger vos données ici (ex: .npy, pickle, h5, ou variables déjà fournies)
    # On suppose X_train (12288, m_train), Y_train (1, m_train) etc.
    # Ex: X_train = np.load('X_train.npy') ; Y_train = np.load('Y_train.npy')

    # --- Prétraitement ---
    # X_train = X_train / 255.0
    # X_test = X_test / 255.0

    # initialisation
    dim = X_train.shape[0]
    w, b = initialize_with_zeros(dim)

    # optimisation
    params, grads, costs = optimize(w, b, X_train, Y_train,
                                   num_iterations=2000,
                                   learning_rate=0.009,
                                   print_cost=True)
    w = params['w']
    b = params['b']

    # prédictions
    Y_pred_train = predict(w, b, X_train)
    Y_pred_test = predict(w, b, X_test)

    # accuracy
    train_accuracy = 100 * np.mean(Y_pred_train == Y_train)
    test_accuracy = 100 * np.mean(Y_pred_test == Y_test)
    print(f"Train accuracy: {train_accuracy:.2f}%")
    print(f"Test accuracy:  {test_accuracy:.2f}%")

    # tracer coût vs itérations
    iters = np.arange(0, 2000, 100)
    plt.plot(iters, costs)
    plt.xlabel("Itérations")
    plt.ylabel("Coût J")
    plt.title("Coût vs itérations")
    plt.grid(True)
    plt.savefig("cost_vs_iterations.png")
    plt.show()
